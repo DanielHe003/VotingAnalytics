{
 "cells": [
  {
   "cell_type": "code",
   "execution_count": null,
   "metadata": {},
   "outputs": [],
   "source": [
    "import pandas as pd\n",
    "import geopandas as gpd\n",
    "import maup\n",
    "import numpy as np\n",
    "import geopandas as gpd\n",
    "from shapely.ops import nearest_points\n",
    "import os\n",
    "\n",
    "# Current Working Directory\n",
    "working_directory = \"/Users/stanleymui/Downloads/CSE 416 Preprocessing Data/\""
   ]
  },
  {
   "cell_type": "code",
   "execution_count": null,
   "metadata": {},
   "outputs": [],
   "source": [
    "def find_neighbor_adjacency(working_directory, file, state):\n",
    "    \n",
    "    gdf = gpd.read_file(working_directory + file)\n",
    "    \n",
    "    boundary_length_threshold = 200\n",
    "    edge_distance_threshold = 200    \n",
    "    \n",
    "    boundary_length_threshold_m = boundary_length_threshold * 0.3048\n",
    "    edge_distance_threshold_m = edge_distance_threshold * 0.3048\n",
    "    \n",
    "    gdf = gdf.to_crs(\"EPSG:32610\")\n",
    "    \n",
    "    gdf[\"NEIGHBORS\"] = None  \n",
    "    \n",
    "    for index, precinct in gdf.iterrows():\n",
    "        potential_neighbors = gdf[~gdf.geometry.disjoint(precinct.geometry)]\n",
    "        \n",
    "        neighbors = []\n",
    "        \n",
    "        for _, neighbor in potential_neighbors.iterrows():\n",
    "            \n",
    "            if precinct.SRPREC_KEY == neighbor.SRPREC_KEY:\n",
    "                continue\n",
    "            \n",
    "            shared_boundary = precinct.geometry.intersection(neighbor.geometry).length\n",
    "            \n",
    "            if shared_boundary >= boundary_length_threshold_m:\n",
    "                p1, p2 = nearest_points(precinct.geometry.boundary, neighbor.geometry.boundary)\n",
    "                edge_distance = p1.distance(p2)\n",
    "                \n",
    "                if edge_distance <= edge_distance_threshold_m:\n",
    "                    neighbors.append(neighbor.SRPREC_KEY)\n",
    "        \n",
    "        gdf.at[index, \"NEIGHBORS\"] = \", \".join(neighbors)\n",
    "    \n",
    "    display(gdf[[\"SRPREC_KEY\", \"NEIGHBORS\"]])\n",
    "\n",
    "    gdf = gdf[[\"SRPREC_KEY\", \"NEIGHBORS\"]]\n",
    "    \n",
    "    file_path = os.path.join(working_directory, state + \"_neighbors.json\")\n",
    "\n",
    "    json_data = gdf.to_json()\n",
    "    \n",
    "    with open(file_path, \"w\") as file:\n",
    "        file.write(json_data)\n",
    "\n",
    "if __name__ == \"__main__\":\n",
    "    file = \"california_precinct_merged.geojson\"\n",
    "    find_neighbor_adjacency(working_directory, file, 'california')\n",
    "    file = \"alabama_precinct_merged.geojson\"\n",
    "    find_neighbor_adjacency(working_directory, file, 'alabama')\n"
   ]
  }
 ],
 "metadata": {
  "language_info": {
   "name": "python"
  },
  "orig_nbformat": 4
 },
 "nbformat": 4,
 "nbformat_minor": 2
}
